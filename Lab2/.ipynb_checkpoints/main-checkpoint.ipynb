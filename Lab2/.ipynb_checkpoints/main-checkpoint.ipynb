{
 "cells": [
  {
   "cell_type": "code",
   "execution_count": 13,
   "id": "08557015",
   "metadata": {},
   "outputs": [
    {
     "name": "stdout",
     "output_type": "stream",
     "text": [
      "Original List: ['P', 'Y', 'T', 'H', 'O', 'N']\n",
      "Bubble Sort: ['H', 'N', 'O', 'P', 'T', 'Y']\n",
      "Selection Sort: ['H', 'N', 'O', 'P', 'T', 'Y']\n",
      "Inertion Sort: ['H', 'N', 'O', 'P', 'T', 'Y']\n",
      "Merge Sort: ['H', 'O', 'N', 'P', 'Y', 'T']\n"
     ]
    }
   ],
   "source": [
    "# Exercise 2.3\n",
    "# Bubble Sort\n",
    "list = ['P', 'Y', 'T', 'H', 'O', 'N']\n",
    "\n",
    "def bubble_sort(list):\n",
    "    list = list[:]\n",
    "    size = len(list)\n",
    "    for i in range(0, size - 1):\n",
    "        for j in range(0, size - i - 1):\n",
    "            if(list[j] > list[j + 1]):\n",
    "                list[j], list[j + 1] = list[j + 1], list[j]\n",
    "    return list\n",
    "\n",
    "def selection_sort(list):\n",
    "    list = list[:]\n",
    "    size = len(list)\n",
    "    for i in range(0, size - 1):\n",
    "        min_index = i\n",
    "        for j in range(i + 1, size):\n",
    "            if list[j] < list[min_index]:\n",
    "                min_index = j\n",
    "        list[i], list[min_index] = list[min_index], list[i]\n",
    "    return list\n",
    "    \n",
    "def insertion_sort(list):\n",
    "    list = list[:]\n",
    "    size = len(list)\n",
    "    for i in range(1, size):\n",
    "        key = list[i]\n",
    "        j = i - 1\n",
    "        while j >= 0 and list[j] > key:\n",
    "            list[j + 1] = list[j]\n",
    "            j = j - 1\n",
    "        list[j + 1] = key\n",
    "    return list\n",
    "\n",
    "def merge(list, left, mid, right):\n",
    "    size_1 = mid - left + 1\n",
    "    size_2 = right - mid\n",
    "    \n",
    "    L = [0] * size_1\n",
    "    R = [0] * size_2\n",
    "    \n",
    "    for i in range(size_1):\n",
    "        L[i] = list[left + i]\n",
    "    for j in range(size_2):\n",
    "        R[j] = list[mid + 1 + j]\n",
    "        \n",
    "    i = 0\n",
    "    j = 0\n",
    "    k = left\n",
    "    \n",
    "    while i < size_1 and j < size_2:\n",
    "        if L[i] <= R[j]:\n",
    "            list[k] = L[i]\n",
    "            i += 1\n",
    "        else:\n",
    "            list[k] = R[j]\n",
    "            j += 1\n",
    "        k += 1\n",
    "        \n",
    "    while i < size_1:\n",
    "        list[k] = L[i]\n",
    "        i += 1\n",
    "        k += 1\n",
    "        \n",
    "    while j < size_2:\n",
    "        list[k] = R[j]\n",
    "        j += 1\n",
    "        k += 1\n",
    "    \n",
    "    \n",
    "def merge_sort(list, left, right):\n",
    "    list = list[:]    \n",
    "    if left < right:\n",
    "        mid = (left + right) // 2\n",
    "        \n",
    "        merge_sort(list, left, mid)\n",
    "        merge_sort(list, mid + 1, right)\n",
    "        merge(list, left, mid, right)\n",
    "    return list\n",
    "\n",
    "print(f\"Original List: {list}\")\n",
    "print(f\"Bubble Sort: {bubble_sort(list)}\")\n",
    "print(f\"Selection Sort: {selection_sort(list)}\")\n",
    "print(f\"Inertion Sort: {insertion_sort(list)}\")\n",
    "print(f\"Merge Sort: {merge_sort(list, 0, len(list) - 1)}\")"
   ]
  },
  {
   "cell_type": "code",
   "execution_count": 27,
   "id": "c585a6cf",
   "metadata": {},
   "outputs": [
    {
     "name": "stdout",
     "output_type": "stream",
     "text": [
      "Mean: 633.8181818181819\n",
      "Median: 3\n",
      "Mode: [1, 3]\n"
     ]
    }
   ],
   "source": [
    "# Exercise 2.4\n",
    "def find_mean_median_mode(list):\n",
    "    if(len(list) == 0):\n",
    "        print(\"Please provide a list\")\n",
    "        return\n",
    "    \n",
    "    sum = 0\n",
    "    for num in list:\n",
    "        sum += num\n",
    "    mean = sum / len(list)\n",
    "    sorted_list = sorted(list)\n",
    "    median = sorted_list[0 + len(list) // 2]\n",
    "    frequency = {}\n",
    "    for num in list:\n",
    "        frequency[num] = frequency.get(num, 0) + 1\n",
    "    max_frequency = max(frequency.values())\n",
    "    mode_values = [key for key, val in frequency.items() if val == max_frequency]\n",
    "    mode = mode_values[0] if len(mode_values) == 1 else mode_values\n",
    "    print(f\"Mean: {mean}\")\n",
    "    print(f\"Median: {median}\")\n",
    "    print(f\"Mode: {mode}\")\n",
    "find_mean_median_mode([1, 432, 6435, 2,86, 5,1, 1,3, 3, 3])"
   ]
  },
  {
   "cell_type": "code",
   "execution_count": 34,
   "id": "31fed23b",
   "metadata": {},
   "outputs": [
    {
     "name": "stdout",
     "output_type": "stream",
     "text": [
      "Enter list elements separated by space: 7 1 3 4 2 3 5 2 1 3 4 7 4 3 2 1 3\n"
     ]
    },
    {
     "data": {
      "text/plain": [
       "['3', '4', '2', '1', '7']"
      ]
     },
     "execution_count": 34,
     "metadata": {},
     "output_type": "execute_result"
    }
   ],
   "source": [
    "# Exercise 2.5\n",
    "def dup(list):\n",
    "        duplicates = set()\n",
    "        visited = set()\n",
    "        for num in list:\n",
    "            if num in visited:\n",
    "                duplicates.add(num)\n",
    "            else:\n",
    "                visited.add(num)\n",
    "                \n",
    "        return [num for num in duplicates]\n",
    "list = input(\"Enter list elements separated by space: \").split()\n",
    "dup(list)    "
   ]
  },
  {
   "cell_type": "code",
   "execution_count": 39,
   "id": "fc0c9ebc",
   "metadata": {},
   "outputs": [
    {
     "name": "stdout",
     "output_type": "stream",
     "text": [
      "First three elements of c: 1 3 5\n",
      "Last element of d: 10\n",
      "Length of d: 7\n"
     ]
    }
   ],
   "source": [
    "# Exercise 2.6\n",
    "a = [1, 3, 5]\n",
    "b = [2, 4, 6]\n",
    "\n",
    "c = a + b\n",
    "\n",
    "d = sorted(c)\n",
    "\n",
    "d.reverse()\n",
    "\n",
    "c[3] = 42\n",
    "\n",
    "d.append(10)\n",
    "\n",
    "c.append([7, 8, 9])\n",
    "\n",
    "print(f\"First three elements of c: {c[0]} {c[1]} {c[2]}\")\n",
    "print(f\"Last element of d: {d[-1]}\")\n",
    "print(f\"Length of d: {len(d)}\")"
   ]
  },
  {
   "cell_type": "code",
   "execution_count": 36,
   "id": "8fb00787",
   "metadata": {},
   "outputs": [
    {
     "name": "stdout",
     "output_type": "stream",
     "text": [
      "Second element of second tuple: 3\n",
      "Last two elements of first element: 3 4\n"
     ]
    }
   ],
   "source": [
    "# Exercise 2.7\n",
    "a = [(1), (2, 3), (4, 5, 6)]\n",
    "print(f\"Second element of second tuple: {a[1][1]}\")\n",
    "\n",
    "b= [[1, 2, 3, 4], [5, 6, 7, 8], [9, 10, 11, 12], [13, 14, 15, 16]]\n",
    "print(f\"Last two elements of first element: {b[0][2]} {b[0][3]}\")"
   ]
  },
  {
   "cell_type": "code",
   "execution_count": 46,
   "id": "39a808d6",
   "metadata": {},
   "outputs": [
    {
     "name": "stdout",
     "output_type": "stream",
     "text": [
      "January:\n",
      "  Week 1: []\n",
      "  Week 2: []\n",
      "  Week 3: []\n",
      "  Week 4: []\n",
      "February:\n",
      "  Week 1: []\n",
      "  Week 2: []\n",
      "  Week 3: []\n",
      "  Week 4: []\n",
      "March:\n",
      "  Week 1: []\n",
      "  Week 2: []\n",
      "  Week 3: []\n",
      "  Week 4: []\n",
      "April:\n",
      "  Week 1: []\n",
      "  Week 2: []\n",
      "  Week 3: []\n",
      "  Week 4: []\n",
      "May:\n",
      "  Week 1: []\n",
      "  Week 2: []\n",
      "  Week 3: []\n",
      "  Week 4: []\n",
      "June:\n",
      "  Week 1: []\n",
      "  Week 2: []\n",
      "  Week 3: []\n",
      "  Week 4: []\n",
      "July:\n",
      "  Week 1: []\n",
      "  Week 2: Post Birthday Celebration\n",
      "  Week 3: []\n",
      "  Week 4: []\n",
      "August:\n",
      "  Week 1: []\n",
      "  Week 2: []\n",
      "  Week 3: []\n",
      "  Week 4: []\n",
      "September:\n",
      "  Week 1: []\n",
      "  Week 2: []\n",
      "  Week 3: []\n",
      "  Week 4: []\n",
      "October:\n",
      "  Week 1: []\n",
      "  Week 2: []\n",
      "  Week 3: []\n",
      "  Week 4: []\n",
      "November:\n",
      "  Week 1: []\n",
      "  Week 2: []\n",
      "  Week 3: []\n",
      "  Week 4: []\n",
      "December:\n",
      "  Week 1: []\n",
      "  Week 2: []\n",
      "  Week 3: []\n",
      "  Week 4: []\n"
     ]
    }
   ],
   "source": [
    "# Exercise 2.8\n",
    "months = [\n",
    "    'January', \n",
    "    'February', \n",
    "    'March', \n",
    "    'April', \n",
    "    'May', \n",
    "    'June', \n",
    "    'July', \n",
    "    'August', \n",
    "    'September', \n",
    "    'October', \n",
    "    'November', \n",
    "    'December'\n",
    "]\n",
    "calendar = {}\n",
    "for month in months:\n",
    "    calendar[month] = {\n",
    "        \"1\": [],\n",
    "        \"2\": [],\n",
    "        \"3\": [],\n",
    "        \"4\": [],\n",
    "    }\n",
    "\n",
    "calendar[\"July\"][\"2\"] = \"Post Birthday Celebration\"\n",
    "# print(f\"{calendar}\")\n",
    "for month, weeks in calendar.items():\n",
    "    print(f\"{month}:\")\n",
    "    for week, events in weeks.items():\n",
    "        print(f\"  Week {week}: {events}\")\n"
   ]
  },
  {
   "cell_type": "code",
   "execution_count": 61,
   "id": "540686ba",
   "metadata": {},
   "outputs": [
    {
     "name": "stdout",
     "output_type": "stream",
     "text": [
      "0.06110239028930664\n"
     ]
    }
   ],
   "source": [
    "# Exercise 2.9\n",
    "# del list\n",
    "big_list = list(range(100000, 300001))\n",
    "\n",
    "def search(integer_list, key):\n",
    "    for i in range(0, len(integer_list)):\n",
    "        if integer_list[i] == key:\n",
    "            return i\n",
    "    return None\n",
    "\n",
    "import time\n",
    "def timer():\n",
    "    start = time.time()\n",
    "#     search(big_list, 100000)\n",
    "#     search(big_list, 200000)\n",
    "#     search(big_list, 300000)\n",
    "    search(big_list, 3)\n",
    "    end = time.time()\n",
    "    return end - start\n",
    "\n",
    "print(timer())"
   ]
  }
 ],
 "metadata": {
  "kernelspec": {
   "display_name": "Python 3 (ipykernel)",
   "language": "python",
   "name": "python3"
  },
  "language_info": {
   "codemirror_mode": {
    "name": "ipython",
    "version": 3
   },
   "file_extension": ".py",
   "mimetype": "text/x-python",
   "name": "python",
   "nbconvert_exporter": "python",
   "pygments_lexer": "ipython3",
   "version": "3.12.3"
  }
 },
 "nbformat": 4,
 "nbformat_minor": 5
}
