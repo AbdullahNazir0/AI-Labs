{
 "cells": [
  {
   "cell_type": "code",
   "execution_count": null,
   "id": "47e58e20",
   "metadata": {
    "vscode": {
     "languageId": "plaintext"
    }
   },
   "outputs": [],
   "source": [
    "import random\n",
    "\n",
    "chromosomes = [\"010101\", \"110001\", \"000101\", \"101100\"]\n",
    "print(chromosomes)\n",
    "\n",
    "for g in range(10):\n",
    "    decimal_values = []\n",
    "    for x in chromosomes:\n",
    "        y = int(x, 2)\n",
    "        decimal_values.append(y)\n",
    "\n",
    "    print(decimal_values)\n",
    "\n",
    "    fitness_values = []\n",
    "    for x in decimal_values:\n",
    "        raw_fitness = (x / 63) * 2 - 1\n",
    "        fitness_percentage = (raw_fitness + 1) * 50\n",
    "        fitness_values.append(fitness_percentage)\n",
    "\n",
    "    print(fitness_values)\n",
    "\n",
    "    best_fitness = max(fitness_values)\n",
    "    best_index = fitness_values.index(best_fitness)\n",
    "    best_chromosomes = chromosomes[best_index]\n",
    "    print(f\"Best chromosome: {best_chromosomes}\")\n",
    "\n",
    "    selection_probs = []\n",
    "    for x in fitness_values:\n",
    "        selection_probs.append(x / sum(fitness_values))\n",
    "    selection_parents = random.choices(chromosomes, weights=selection_probs, k=2)\n",
    "    print(selection_parents)\n",
    "\n",
    "    parent1, parent2 = selection_parents\n",
    "    crossover_point = random.randint(1, len(parent1) - 1)\n",
    "    print(crossover_point)\n",
    "    child1 = parent1[:crossover_point] + parent2[crossover_point:]\n",
    "    child2 = parent1[:crossover_point] + parent2[crossover_point:]\n",
    "\n",
    "    crossover_points = sorted(random.sample(range(1, len(parent1) - 1), 2))\n",
    "    point1, point2 = crossover_points\n",
    "    child1 = parent1[:point1] + parent2[point1:point2] + parent1[point2:]\n",
    "    child1 = parent2[:point1] + parent1[point1:point2] + parent2[point2:]\n",
    "\n",
    "    mutation_rate = 0.1\n",
    "    def mutate(c):\n",
    "        c_list = list(c)\n",
    "        for i in range(len(c_list)):\n",
    "            if random.random() < mutation_rate:\n",
    "                if c_list[i] == '0':\n",
    "                    c_list[i] = '1'\n",
    "                else:\n",
    "                    c_list[i] = '0'\n",
    "        return ''.join(c_list)\n",
    "\n",
    "child1 = mutate(child1)\n",
    "child2 = mutate(child2)\n",
    "\n",
    "chromosomes_w_fitness = list(zip(chromosomes, fitness_values))\n",
    "print(chromosomes_w_fitness)\n",
    "chromosomes_w_fitness.sort(key=lambda x:x[1], reverse=True)\n",
    "sorted_chromosomes = []\n",
    "for x, y in chromosomes_w_fitness:\n",
    "    sorted_chromosomes.append(x)\n",
    "chromosomes = sorted_chromosomes[:-2] + [child1, child2]"
   ]
  }
 ],
 "metadata": {
  "language_info": {
   "name": "python"
  }
 },
 "nbformat": 4,
 "nbformat_minor": 5
}
