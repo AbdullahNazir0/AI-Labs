{
 "cells": [
  {
   "cell_type": "code",
   "execution_count": null,
   "id": "2b56b3aa-ab7d-414b-9e13-8359fe3a133f",
   "metadata": {},
   "outputs": [
    {
     "name": "stdout",
     "output_type": "stream",
     "text": [
      "Tree Depth: 3\n",
      "Optimal Value: 4\n"
     ]
    }
   ],
   "source": [
    "import math\n",
    "\n",
    "def minimax(depth, node_index, is_maximizing_player, scores, max_depth):\n",
    "    # Base case: If the maximum depth is reached, return the score\n",
    "    if depth == max_depth:\n",
    "        return scores[node_index]\n",
    "    \n",
    "    if is_maximizing_player:\n",
    "        # Maximizing player's turn: choose the maximum value\n",
    "        return max(\n",
    "            minimax(depth + 1, node_index * 2, False, scores, max_depth),\n",
    "            minimax(depth + 1, node_index * 2 + 1, False, scores, max_depth)\n",
    "        )\n",
    "    else:\n",
    "        # Minimizing player's turn: choose the minimum value\n",
    "        return min(\n",
    "            minimax(depth + 1, node_index * 2, True, scores, max_depth),\n",
    "            minimax(depth + 1, node_index * 2 + 1, True, scores, max_depth)\n",
    "        )\n",
    "\n",
    "# Score values at leaf nodes of the tree\n",
    "scores = [-1, 4, 2, 6, -3, -5, 0, 7]\n",
    "max_depth = int(math.log2(len(scores))) # Calculate max depth of the tree\n",
    "\n",
    "print(\"Tree Depth:\", max_depth)\n",
    "print(\"Optimal Value:\", minimax(0, 0, True, scores, max_depth))"
   ]
  }
 ],
 "metadata": {
  "kernelspec": {
   "display_name": "Python 3 (ipykernel)",
   "language": "python",
   "name": "python3"
  },
  "language_info": {
   "codemirror_mode": {
    "name": "ipython",
    "version": 3
   },
   "file_extension": ".py",
   "mimetype": "text/x-python",
   "name": "python",
   "nbconvert_exporter": "python",
   "pygments_lexer": "ipython3",
   "version": "3.12.7"
  }
 },
 "nbformat": 4,
 "nbformat_minor": 5
}
