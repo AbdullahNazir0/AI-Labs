{
 "cells": [
  {
   "cell_type": "code",
   "execution_count": null,
   "id": "2b56b3aa-ab7d-414b-9e13-8359fe3a133f",
   "metadata": {},
   "outputs": [
    {
     "name": "stdout",
     "output_type": "stream",
     "text": [
      "Optimal Value is: 14\n"
     ]
    }
   ],
   "source": [
    "import math\n",
    "\n",
    "def alpha_beta_pruning(depth, node_index, is_maximizing_player, scores, max_depth, alpha, beta):\n",
    "    # Base case: If the maximum depth (leaf level) is reached, return the score\n",
    "    if depth == max_depth:\n",
    "        return scores[node_index]\n",
    "\n",
    "    if is_maximizing_player:\n",
    "        best_value = float('-inf')  # Initialize best value for maximizing player\n",
    "        for i in range(2): # Explore two child nodes\n",
    "            value = alpha_beta_pruning(depth + 1, node_index * 2 + i, False, scores, max_depth, alpha, beta)\n",
    "            best_value = max(best_value, value)  # Choose the maximum value\n",
    "            alpha = max(alpha, best_value)  # Update alpha\n",
    "            if beta <= alpha:  # Prune the remaining branches\n",
    "                break\n",
    "        return best_value\n",
    "    else:\n",
    "        best_value = float('inf')  # Initialize best value for minimizing player\n",
    "        for i in range(2): # Explore two child nodes\n",
    "            value = alpha_beta_pruning(depth + 1, node_index * 2 + i, True, scores, max_depth, alpha, beta)\n",
    "            best_value = min(best_value, value)  # Choose the minimum value\n",
    "            beta = min(beta, best_value)  # Update beta\n",
    "            if beta <= alpha:  # Prune the remaining branches\n",
    "                break\n",
    "        return best_value\n",
    "\n",
    "alpha = float('-inf')  # Alpha starts as negative infinity\n",
    "beta = float('inf')    # Beta starts as positive infinity\n",
    "scores = [10, 11, 9, 9, 12, 14, 15, 13, 14, 15, 2, 4, 1, 3, 22, 24]\n",
    "max_depth = int(math.log2(len(scores))) # Calculate max depth of the tree\n",
    "\n",
    "print(\"Optimal Value is:\", alpha_beta_pruning(0, 0, True, scores, max_depth, alpha, beta))"
   ]
  }
 ],
 "metadata": {
  "kernelspec": {
   "display_name": "Python 3 (ipykernel)",
   "language": "python",
   "name": "python3"
  },
  "language_info": {
   "codemirror_mode": {
    "name": "ipython",
    "version": 3
   },
   "file_extension": ".py",
   "mimetype": "text/x-python",
   "name": "python",
   "nbconvert_exporter": "python",
   "pygments_lexer": "ipython3",
   "version": "3.12.7"
  }
 },
 "nbformat": 4,
 "nbformat_minor": 5
}
