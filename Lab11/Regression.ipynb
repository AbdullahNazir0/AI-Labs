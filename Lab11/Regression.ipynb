{
 "cells": [
  {
   "cell_type": "code",
   "execution_count": 9,
   "id": "ec100e80-c51a-4a5e-9c6a-ad29b6aeedaa",
   "metadata": {},
   "outputs": [],
   "source": [
    "import pandas as pd\n",
    "import numpy as np\n",
    "from sklearn.model_selection import train_test_split\n",
    "from sklearn.neighbors import KNeighborsRegressor\n",
    "from sklearn.metrics import mean_absolute_error, mean_squared_error, r2_score, mean_absolute_percentage_error\n",
    "import joblib"
   ]
  },
  {
   "cell_type": "code",
   "execution_count": 10,
   "id": "343e7e55-7164-47a6-80b9-c4db0ffe418c",
   "metadata": {},
   "outputs": [],
   "source": [
    "df = pd.read_csv(\"Ice_Cream_Temperature.csv\")"
   ]
  },
  {
   "cell_type": "code",
   "execution_count": 11,
   "id": "d226cb71-6fdd-45ef-b25a-7b5c3ae1d2ae",
   "metadata": {},
   "outputs": [],
   "source": [
    "X = df.drop(columns=['Ice Cream Profits'])\n",
    "y = df['Ice Cream Profits']\n",
    "\n",
    "X_train, X_test, y_train, y_test = train_test_split(X, y, test_size=.20, random_state=42)"
   ]
  },
  {
   "cell_type": "code",
   "execution_count": 12,
   "id": "ae206ff0-4c4a-4d0d-b31a-46c3fdbf749f",
   "metadata": {},
   "outputs": [],
   "source": [
    "# KNN\n",
    "knn = KNeighborsRegressor(n_neighbors=2)\n",
    "knn.fit(X_train, y_train)\n",
    "y_pred = knn.predict(X_test)"
   ]
  },
  {
   "cell_type": "code",
   "execution_count": 13,
   "id": "f7bb728f-da7e-48d3-9a1e-2e01259f2f44",
   "metadata": {},
   "outputs": [
    {
     "name": "stdout",
     "output_type": "stream",
     "text": [
      "Mean Absolute Error (MAE): 2.214520547945204\n",
      "Mean Squared Error (MSE): 8.442762328767115\n",
      "Root Mean Squared Error (RMSE): 2.905643186760397\n",
      "R-squared (R²): 0.9738751538323489\n",
      "Mean Absolute Percentage Error (MAPE): 0.04884283531729235\n"
     ]
    }
   ],
   "source": [
    "mae = mean_absolute_error(y_test, y_pred)\n",
    "print(f\"Mean Absolute Error (MAE): {mae}\")\n",
    "mse = mean_squared_error(y_test, y_pred)\n",
    "print(f\"Mean Squared Error (MSE): {mse}\")\n",
    "rmse = np.sqrt(mse)\n",
    "print(f\"Root Mean Squared Error (RMSE): {rmse}\")\n",
    "r2 = r2_score(y_test, y_pred)\n",
    "print(f\"R-squared (R²): {r2}\")\n",
    "mape = mean_absolute_percentage_error(y_test, y_pred)\n",
    "print(f\"Mean Absolute Percentage Error (MAPE): {mape}\")"
   ]
  },
  {
   "cell_type": "code",
   "execution_count": 14,
   "id": "0d5a11d9-f72e-4ff2-831b-a912d0fbdf05",
   "metadata": {},
   "outputs": [
    {
     "data": {
      "text/plain": [
       "['knn_model_regressor.pkl']"
      ]
     },
     "execution_count": 14,
     "metadata": {},
     "output_type": "execute_result"
    }
   ],
   "source": [
    "# save model\n",
    "joblib.dump(knn, 'knn_model_regressor.pkl')"
   ]
  },
  {
   "cell_type": "code",
   "execution_count": null,
   "id": "0a470041-bce5-426a-b7d7-9ff22795e9a5",
   "metadata": {},
   "outputs": [],
   "source": [
    "model = joblib.load('knn_model.pkl')"
   ]
  }
 ],
 "metadata": {
  "kernelspec": {
   "display_name": "Python 3 (ipykernel)",
   "language": "python",
   "name": "python3"
  },
  "language_info": {
   "codemirror_mode": {
    "name": "ipython",
    "version": 3
   },
   "file_extension": ".py",
   "mimetype": "text/x-python",
   "name": "python",
   "nbconvert_exporter": "python",
   "pygments_lexer": "ipython3",
   "version": "3.13.3"
  }
 },
 "nbformat": 4,
 "nbformat_minor": 5
}
