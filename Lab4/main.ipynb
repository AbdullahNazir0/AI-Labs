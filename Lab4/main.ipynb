{
 "cells": [
  {
   "cell_type": "code",
   "execution_count": 5,
   "id": "dc8aedb0",
   "metadata": {},
   "outputs": [
    {
     "name": "stdout",
     "output_type": "stream",
     "text": [
      "(['A', 'C', 'G'], 9)\n"
     ]
    }
   ],
   "source": [
    "def bfs(graph, start, goal):\n",
    "    cost = 0\n",
    "    path = []\n",
    "    visited = set()\n",
    "    queue = [(start, cost)]\n",
    "    while queue:\n",
    "        current, cost = queue.pop()\n",
    "        if current == goal:\n",
    "            path.append(current)\n",
    "            return path, cost\n",
    "        if current not in visited:\n",
    "            visited.add(current)\n",
    "            path.append(current)\n",
    "            for x, y in graph.get(current, {}).items():\n",
    "                queue.append((x, y + cost))\n",
    "    return None, float('inf')\n",
    "\n",
    "graph = {\n",
    "    'A':{'B':1,'C':3},\n",
    "    'B':{'D':4,'E':5},\n",
    "    'C':{'F':3,'G':6},\n",
    "    'D':{},\n",
    "    'E':{},\n",
    "    'F':{},\n",
    "    'G':{}\n",
    "}\n",
    "print(bfs(graph, 'A', 'G'))"
   ]
  },
  {
   "cell_type": "code",
   "execution_count": 6,
   "id": "6e874c91",
   "metadata": {},
   "outputs": [
    {
     "name": "stdout",
     "output_type": "stream",
     "text": [
      "(['A', 'C', 'G'], 9)\n"
     ]
    }
   ],
   "source": [
    "# ucs \n",
    "\n",
    "import heapq\n",
    "\n",
    "def ucs(graph, start, goal):\n",
    "    cost = 0\n",
    "    path = []\n",
    "    visited = set()\n",
    "    queue = [(cost, start, path)]\n",
    "    while queue:\n",
    "        cost, current, path = heapq.heappop(queue)\n",
    "        if current == goal:\n",
    "            path.append(current)\n",
    "            return path, cost\n",
    "        if current not in visited:\n",
    "            visited.add(current)\n",
    "            path = path + [current]\n",
    "            for x, y in graph.get(current, {}).items():\n",
    "                heapq.heappush(queue, (y + cost, x, path))\n",
    "    return None, float('inf')\n",
    "\n",
    "graph = {\n",
    "    'A':{'B':1,'C':3},\n",
    "    'B':{'D':4,'E':5},\n",
    "    'C':{'F':3,'G':6},\n",
    "    'D':{},\n",
    "    'E':{},\n",
    "    'F':{},\n",
    "    'G':{}\n",
    "}\n",
    "print(ucs(graph, 'A', 'G'))"
   ]
  },
  {
   "cell_type": "code",
   "execution_count": 11,
   "id": "3238ac82",
   "metadata": {
    "scrolled": true
   },
   "outputs": [
    {
     "name": "stdout",
     "output_type": "stream",
     "text": [
      "(['A', 'C', 'G'], 0)\n"
     ]
    }
   ],
   "source": [
    "# gbfs \n",
    "\n",
    "import heapq\n",
    "\n",
    "def gbfs(graph, start, goal, heuristic):\n",
    "    cost = 0\n",
    "    path = []\n",
    "    visited = set()\n",
    "    queue = [(heuristic[start], start, path)]\n",
    "    while queue:\n",
    "        cost, current, path = heapq.heappop(queue)\n",
    "        if current == goal:\n",
    "            path.append(current)\n",
    "            return path, cost\n",
    "        if current not in visited:\n",
    "            visited.add(current)\n",
    "            path = path + [current]\n",
    "            for x, y in graph.get(current, {}).items():\n",
    "                heapq.heappush(queue, (heuristic[x], x, path))\n",
    "    return None, float('inf')\n",
    "\n",
    "heuristic = {\n",
    "    'A': 8,\n",
    "    'B': 7,\n",
    "    'C': 6,\n",
    "    'D': 3,\n",
    "    'E': 2,\n",
    "    'F': 2,\n",
    "    'G': 0\n",
    "}\n",
    "graph = {\n",
    "    'A':{'B':1,'C':3},\n",
    "    'B':{'D':4,'E':5},\n",
    "    'C':{'F':3,'G':6},\n",
    "    'D':{},\n",
    "    'E':{},\n",
    "    'F':{},\n",
    "    'G':{}\n",
    "}\n",
    "print(gbfs(graph, 'A', 'G', heuristic))"
   ]
  },
  {
   "cell_type": "code",
   "execution_count": 15,
   "id": "a2b26812",
   "metadata": {},
   "outputs": [
    {
     "name": "stdout",
     "output_type": "stream",
     "text": [
      "(['A', 'C', 'G'], 0)\n"
     ]
    }
   ],
   "source": [
    "#A* \n",
    "import heapq\n",
    "\n",
    "def astar(graph, start, goal, heuristic):\n",
    "    cost = 0\n",
    "    path = []\n",
    "    visited = set()\n",
    "    queue = [(heuristic[start],cost,start, path)]\n",
    "    while queue:\n",
    "        est_cost,act_cost, current, path = heapq.heappop(queue)\n",
    "        if current == goal:\n",
    "            path.append(current)\n",
    "            return path, act_cost\n",
    "        if current not in visited:\n",
    "            visited.add(current)\n",
    "            path = path + [current]\n",
    "            for x, y in graph.get(current, {}).items():\n",
    "                new_act_cost = act_cost + y\n",
    "                new_est_cost = new_act_cost + heuristic [x]\n",
    "                heapq.heappush(queue, (new_est_cost,new_act_cost, x, path))\n",
    "    return None, float('inf')\n",
    "\n",
    "heuristic = {\n",
    "    'A': 8,\n",
    "    'B': 7,\n",
    "    'C': 6,\n",
    "    'D': 3,\n",
    "    'E': 2,\n",
    "    'F': 2,\n",
    "    'G': 0\n",
    "}\n",
    "graph = {\n",
    "    'A':{'B':1,'C':3},\n",
    "    'B':{'D':4,'E':5},\n",
    "    'C':{'F':3,'G':6},\n",
    "    'D':{},\n",
    "    'E':{},\n",
    "    'F':{},\n",
    "    'G':{}\n",
    "}\n",
    "print(astar(graph, 'A', 'G', heuristic))"
   ]
  },
  {
   "cell_type": "code",
   "execution_count": null,
   "id": "b5475412",
   "metadata": {},
   "outputs": [],
   "source": []
  }
 ],
 "metadata": {
  "kernelspec": {
   "display_name": "Python 3 (ipykernel)",
   "language": "python",
   "name": "python3"
  },
  "language_info": {
   "codemirror_mode": {
    "name": "ipython",
    "version": 3
   },
   "file_extension": ".py",
   "mimetype": "text/x-python",
   "name": "python",
   "nbconvert_exporter": "python",
   "pygments_lexer": "ipython3",
   "version": "3.12.3"
  }
 },
 "nbformat": 4,
 "nbformat_minor": 5
}
